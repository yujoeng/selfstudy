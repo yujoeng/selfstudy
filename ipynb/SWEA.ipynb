{
 "cells": [
  {
   "cell_type": "code",
   "execution_count": null,
   "id": "704f9def",
   "metadata": {},
   "outputs": [
    {
     "name": "stdout",
     "output_type": "stream",
     "text": [
      "[0, 0, 0, 0]\n",
      "[0, 0, 0, 1]\n",
      "[0, 0, 1, 0]\n",
      "[0, 0, 1, 1]\n",
      "[0, 1, 0, 0]\n",
      "[0, 1, 0, 1]\n",
      "[0, 1, 1, 0]\n",
      "[0, 1, 1, 1]\n",
      "[1, 0, 0, 0]\n",
      "[1, 0, 0, 1]\n",
      "[1, 0, 1, 0]\n",
      "[1, 0, 1, 1]\n",
      "[1, 1, 0, 0]\n",
      "[1, 1, 0, 1]\n",
      "[1, 1, 1, 0]\n",
      "[1, 1, 1, 1]\n"
     ]
    }
   ],
   "source": [
    "bit = [0, 0, 0, 0]\n",
    "\n",
    "for i in range(2) :\n",
    "    bit[0] = i              #0번 원소 \n",
    "    for j in range(2):\n",
    "        bit[1] = j          #1번 원소\n",
    "        for k in range(2) :\n",
    "            bit[2] = k      #2번 원소\n",
    "            for l in range(2):\n",
    "                bit[3] = l  #3번 원소 \n",
    "                print((bit))    #생성된 부분집합 출력 "
   ]
  },
  {
   "cell_type": "code",
   "execution_count": null,
   "id": "032d29e2",
   "metadata": {},
   "outputs": [
    {
     "ename": "SyntaxError",
     "evalue": "incomplete input (2765750440.py, line 15)",
     "output_type": "error",
     "traceback": [
      "  \u001b[36mCell\u001b[39m\u001b[36m \u001b[39m\u001b[32mIn[8]\u001b[39m\u001b[32m, line 15\u001b[39m\n\u001b[31m    \u001b[39m\u001b[31m#n\u001b[39m\n       ^\n\u001b[31mSyntaxError\u001b[39m\u001b[31m:\u001b[39m incomplete input\n"
     ]
    }
   ],
   "source": [
    "#비트 연산으로 부분집합을 생성하는 방법\n",
    "arr = [3, 6, 7, 1, 5, 4]\n",
    "\n",
    "n = len(arr)                #n : 원소의 개수 \n",
    "\n",
    "for i in range(1<<n):           #1<<n: 부분 집합의 개수\n",
    "    for j in range(n):          #원소의 수만큼 비트를 비교함 \n",
    "        if i & (1<<j):          #i의 j번 비트가 1인경우\n",
    "            # print(arr[j], end=\", \")                 #j번 원소 출력 \n",
    "    # print()\n",
    "# print()\n",
    "\n",
    "\n",
    "\n"
   ]
  },
  {
   "cell_type": "code",
   "execution_count": null,
   "id": "abf03abc",
   "metadata": {},
   "outputs": [],
   "source": [
    "연습문제\n",
    "#10개의 정수를 입력 받아 부분집합의 합이 0이 되는 것이 존재하는지 확인하기 \n",
    "\n",
    "arr[-7, -5, 2, 3, 8, -2, 4, 6, 9]#정수 입력\n",
    "\n",
    "n = len(arr)\n",
    "\n"
   ]
  },
  {
   "cell_type": "markdown",
   "id": "0d12daf1",
   "metadata": {},
   "source": [
    "SWEA 4839. 이진탐색 \n",
    "\n",
    "짝을 이룬 A, B 두 사람에게 교과서에서 각자 찾을 쪽 번호를 알려주면, 이진 탐색만으로 지정된 페이지를 먼저 펼치는 사람이 이기는 게임이다.\n",
    "예를 들어 책이 총 400쪽이면, 검색 구간의 왼쪽 l=1, 오른쪽 r=400이 되고, 중간 페이지 c= int((l+r)/2)로 계산한다.\n",
    "찾는 쪽 번호가 c와 같아지면 탐색을 끝낸다.\n",
    "A는 300, B는 50 쪽을 찾아야 하는 경우, 다음처럼 중간 페이지를 기준으로 왼쪽 또는 오른 쪽 영역의 중간 페이지를 다시 찾아가면 된다.\n",
    "\n",
    "\n",
    " \n",
    "\n",
    "A                                       B\n",
    "첫 번째 탐색\n",
    "l=1, r=400, c=200                   l=1, r=400, c=200\n",
    "\n",
    "두 번째 탐색\n",
    "l=200, r=400, c=300             l=1, r=200, c=100\n",
    "\n",
    "세 번째 탐색\n",
    "                                 l=1, r=100, c=50\n",
    "\n",
    "                                 \n",
    "책의 전체 쪽수와 두 사람이 찾을 쪽 번호가 주어졌을 때, 이진 탐색 게임에서 이긴 사람이 누구인지 알아내 출력하시오. 비긴 경우는 0을 출력한다.\n",
    " \n",
    "\n",
    "[입력]\n",
    "\n",
    "첫 줄에 테스트 케이스 개수 T가 주어진다.  1<=T<=50\n",
    "테스트 케이스 별로 책의 전체 쪽 수 P, A, B가 찾을 쪽 번호 Pa, Pb가 차례로 주어진다. 1 <= Pa, Pb < P <=1000\n",
    " \n",
    "[출력]\n",
    "각 줄마다 \"#T\" (T는 테스트 케이스 번호)를 출력한 뒤, A, B, 0 중 하나를 출력한다.\n"
   ]
  },
  {
   "cell_type": "code",
   "execution_count": null,
   "id": "ec1e492c",
   "metadata": {},
   "outputs": [],
   "source": [
    "# 부분집합의 합 \n",
    "\n",
    "T = int(input())\n",
    "\n",
    "for tc in range(1, T + 1):\n",
    "    N,K = map(int,input().split())\n",
    "    A = [i for i in range(1,13)]\n",
    "\n",
    "    cnt = 0 \n",
    "\n",
    "    for i in range(1<<12):\n",
    "        subser = [0]\n",
    "        for j in range(N):\n",
    "            if i & (1<<j):\n",
    "                \n",
    "\n"
   ]
  },
  {
   "cell_type": "code",
   "execution_count": 9,
   "id": "fe63452a",
   "metadata": {},
   "outputs": [
    {
     "ename": "ValueError",
     "evalue": "invalid literal for int() with base 10: ''",
     "output_type": "error",
     "traceback": [
      "\u001b[31m---------------------------------------------------------------------------\u001b[39m",
      "\u001b[31mValueError\u001b[39m                                Traceback (most recent call last)",
      "\u001b[36mCell\u001b[39m\u001b[36m \u001b[39m\u001b[32mIn[9]\u001b[39m\u001b[32m, line 1\u001b[39m\n\u001b[32m----> \u001b[39m\u001b[32m1\u001b[39m T = \u001b[38;5;28;43mint\u001b[39;49m\u001b[43m(\u001b[49m\u001b[38;5;28;43minput\u001b[39;49m\u001b[43m(\u001b[49m\u001b[43m)\u001b[49m\u001b[43m)\u001b[49m\n\u001b[32m      2\u001b[39m \u001b[38;5;28;01mfor\u001b[39;00m tc \u001b[38;5;129;01min\u001b[39;00m \u001b[38;5;28mrange\u001b[39m(\u001b[32m1\u001b[39m, T + \u001b[32m1\u001b[39m):\n\u001b[32m      3\u001b[39m     N, K = \u001b[38;5;28mmap\u001b[39m(\u001b[38;5;28mint\u001b[39m, \u001b[38;5;28minput\u001b[39m().split())  \u001b[38;5;66;03m# 문제에서 이걸 입력으로 준다고 했음\u001b[39;00m\n",
      "\u001b[31mValueError\u001b[39m: invalid literal for int() with base 10: ''"
     ]
    }
   ],
   "source": [
    "T = int(input())\n",
    "for tc in range(1, T + 1):\n",
    "    N, K = map(int, input().split())  # 문제에서 이걸 입력으로 준다고 했음\n",
    "    A = [i for i in range(1, 13)]     # 1부터 12까지의 집합\n",
    "\n",
    "    count = 0\n",
    "\n",
    "    # 부분집합을 전부 탐색\n",
    "    for i in range(1 << 12):  # 총 2^12개의 부분집합\n",
    "        subset = []\n",
    "        for j in range(12):\n",
    "            if i & (1 << j):  # j번째 비트가 켜져 있다면 A[j]를 포함\n",
    "                subset.append(A[j])\n",
    "        \n",
    "        # 부분집합이 N개의 원소를 가지는지\n",
    "        if len(subset) == N:\n",
    "            # 부분집합의 합이 K인지\n",
    "            if sum(subset) == K:\n",
    "                count += 1\n",
    "\n",
    "    print(f\"#{tc} {count}\")\n"
   ]
  }
 ],
 "metadata": {
  "kernelspec": {
   "display_name": "Python 3",
   "language": "python",
   "name": "python3"
  },
  "language_info": {
   "codemirror_mode": {
    "name": "ipython",
    "version": 3
   },
   "file_extension": ".py",
   "mimetype": "text/x-python",
   "name": "python",
   "nbconvert_exporter": "python",
   "pygments_lexer": "ipython3",
   "version": "3.11.9"
  }
 },
 "nbformat": 4,
 "nbformat_minor": 5
}
