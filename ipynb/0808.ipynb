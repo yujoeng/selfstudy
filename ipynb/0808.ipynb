{
 "cells": [
  {
   "cell_type": "code",
   "execution_count": null,
   "id": "eb82a4a8",
   "metadata": {},
   "outputs": [],
   "source": [
    "# 회문 \n",
    "# - '기러기', '토마토', '스위스' 와 같이 똑바로 읽어도 거꾸로 읽어도 똑같은 문장이나 낱말\n",
    "#     -문자열 길이의 반만 비교하면 됩니다. \n",
    "\n",
    "is_palindrome(txt):\n",
    "        for i : 0 -> len(txt)//2 -1\n",
    "                if txt[i] != txt[len(txt)-1 - i]\n",
    "                        return False\n",
    "        return True\n",
    "\n"
   ]
  },
  {
   "cell_type": "code",
   "execution_count": null,
   "id": "14950543",
   "metadata": {},
   "outputs": [],
   "source": [
    "#- 첫 줄에 N, 다음에 NxN 미로. 0 통로, 1벽, #로봇. 상하좌우로 모두 이동할 수 있는 칸 수는? \n",
    "\n",
    "# 5\n",
    "# 00010\n",
    "# 1#101\n",
    "# 00000\n",
    "# 11010\n",
    "# 00010\n",
    "\n",
    "N = int(input())\n",
    "text = [input() for _ in range(N)]\n",
    "\n",
    "#for i : 1->N-2 (슈드코드) = 파이썬 코드  #for i in range(1, N-1):"
   ]
  },
  {
   "cell_type": "code",
   "execution_count": null,
   "id": "163b848a",
   "metadata": {},
   "outputs": [],
   "source": [
    "첫 줄에 N, 다음에 NXN 지도, #집중호우 피해구역. 피해구역 수는? \n",
    "\n",
    "N = int(input())\n",
    "text = [list(input()) for _ in range(N)]\n",
    "\n",
    "ans = 0\n",
    "for i: 0 -> N-1\n",
    "    for j: 0 -> N-1\n",
    "        if text[i][j]=='#':\n",
    "            ans+=1\n",
    "    \n",
    "기냥 대충 흐름 파악용 코드\n",
    "\n",
    "max_v = 0\n",
    "for i : 0->N-M          \n",
    "    for j : 0 ->N-M \n",
    "    cnt = 0\n",
    "    for p : 0 -> M -1\n",
    "        for g : 0 ->M-1\n",
    "        if text[j+p][j+g]=='#':\n",
    "            cnt +=1\n",
    "    if max_v < cnt:\n",
    "        max_v = cnt"
   ]
  },
  {
   "cell_type": "code",
   "execution_count": null,
   "id": "fdb34870",
   "metadata": {},
   "outputs": [],
   "source": [
    "N = int(input())\n",
    "text = [input() for _ in range(N)]\n",
    "\n",
    "N = int(input())\n",
    "text = [list(input()) for _ in range(N)]\n",
    "\n",
    "ans = \n",
    "for i:\n",
    "    for j:\n",
    "        if text[i][j] =='z':\n",
    "        ans = \n",
    "\n",
    "<이해 못함> -> 앞에 개념 더 공부하기 \n",
    "\n"
   ]
  }
 ],
 "metadata": {
  "language_info": {
   "name": "python"
  }
 },
 "nbformat": 4,
 "nbformat_minor": 5
}
