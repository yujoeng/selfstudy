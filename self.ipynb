{
 "cells": [
  {
   "cell_type": "code",
   "execution_count": 3,
   "id": "6952e5fa",
   "metadata": {},
   "outputs": [
    {
     "name": "stdout",
     "output_type": "stream",
     "text": [
      "firstsecond\n"
     ]
    }
   ],
   "source": [
    "print(\"first\", end=''); print('second')"
   ]
  },
  {
   "cell_type": "code",
   "execution_count": 1,
   "id": "73e29a89",
   "metadata": {},
   "outputs": [
    {
     "name": "stdout",
     "output_type": "stream",
     "text": [
      "5/3\n"
     ]
    }
   ],
   "source": [
    "print('5/3')"
   ]
  },
  {
   "cell_type": "code",
   "execution_count": 6,
   "id": "00a18eaa",
   "metadata": {},
   "outputs": [
    {
     "name": "stdout",
     "output_type": "stream",
     "text": [
      "500000\n"
     ]
    }
   ],
   "source": [
    "삼성전자 = 50000\n",
    "\n",
    "총평가금액 = 삼성전자 *10\n",
    "\n",
    "print(총평가금액)"
   ]
  },
  {
   "cell_type": "code",
   "execution_count": null,
   "id": "7aca8448",
   "metadata": {},
   "outputs": [
    {
     "name": "stdout",
     "output_type": "stream",
     "text": [
      "298000000000000 <class 'int'>\n",
      "50000 <class 'int'>\n",
      "15.79 <class 'float'>\n"
     ]
    }
   ],
   "source": [
    "시가총액 = 298000000000000\n",
    "현재가 = 50000\n",
    "PER = 15.79\n",
    "print(시가총액, type(시가총액))\n",
    "print(현재가, type(현재가))\n",
    "print(PER, type(PER))\n",
    "\n",
    "\n",
    "#<문제>삼성전자의 일부 투자정보를 보고 변수를 사용해서 시가총액\n",
    "#현재가, PER등을 바인딩해보세요. \n",
    "\n",
    "#왜 type를 사용해야 하는건지?\n"
   ]
  },
  {
   "cell_type": "code",
   "execution_count": 15,
   "id": "eb2a8597",
   "metadata": {},
   "outputs": [
    {
     "name": "stdout",
     "output_type": "stream",
     "text": [
      "hello! python\n"
     ]
    }
   ],
   "source": [
    "#13 문자열 출력 \n",
    "#변수 s와 t에는 각각 문자열이 바인딩 되어있습니다.\n",
    "# 두 변수를 이용하여 아래와 같이 출력해보세요.\n",
    "# 실행 예:\n",
    "# hello! python\n",
    "\n",
    "# ; s = '\"hello\"'\n",
    "# ; t = '\"python\"'\n",
    "\n",
    "# ; print(s+'!', t)\n",
    "\n",
    "s = \"hello\"\n",
    "t = \"python\"\n",
    "print(s+\"!\", t)\n",
    "\n",
    "\n"
   ]
  },
  {
   "cell_type": "code",
   "execution_count": 16,
   "id": "6d3e6de0",
   "metadata": {},
   "outputs": [
    {
     "name": "stdout",
     "output_type": "stream",
     "text": [
      "8\n"
     ]
    }
   ],
   "source": [
    "vlaue = 2 + 2 *3 \n",
    "print(vlaue)"
   ]
  },
  {
   "cell_type": "code",
   "execution_count": 18,
   "id": "4f7f3bbb",
   "metadata": {},
   "outputs": [
    {
     "name": "stdout",
     "output_type": "stream",
     "text": [
      "<class 'int'>\n",
      "<class 'str'>\n"
     ]
    }
   ],
   "source": [
    "#type()함수는 데이터 타입을 판별합니다. 변수 a에는 128 숫자가 바인딩 되어\n",
    "#있어 type함수가 int(정수)형임을 알려줍니다.\n",
    "\n",
    "a = 128\n",
    "print(type(a))\n",
    "\n",
    "b = '132'\n",
    "print(type(b))"
   ]
  },
  {
   "cell_type": "code",
   "execution_count": null,
   "id": "3d33d4c6",
   "metadata": {},
   "outputs": [
    {
     "name": "stdout",
     "output_type": "stream",
     "text": [
      "721 <class 'int'>\n"
     ]
    }
   ],
   "source": [
    "#문자열 '720'를 정수형으로 변환해보세요\n",
    "\n",
    "num_str = '720' #형병환\n",
    "\n",
    "num_int = int(num_str)\n",
    "print(num_int+1, type(num_int))"
   ]
  },
  {
   "cell_type": "code",
   "execution_count": 24,
   "id": "55fc439f",
   "metadata": {},
   "outputs": [
    {
     "name": "stdout",
     "output_type": "stream",
     "text": [
      "100 <class 'str'>\n"
     ]
    }
   ],
   "source": [
    "#정수를 문자열 100으로 변환 \n",
    "\n",
    "num = 100\n",
    "\n",
    "number = str(num)\n",
    "print(number, type(number))"
   ]
  },
  {
   "cell_type": "code",
   "execution_count": 25,
   "id": "769790ce",
   "metadata": {},
   "outputs": [
    {
     "name": "stdout",
     "output_type": "stream",
     "text": [
      "15.79 <class 'float'>\n"
     ]
    }
   ],
   "source": [
    "#문자열 \"15.79\"를 실수(float) 타입으로 변환해보세요.\n",
    "\n",
    "문자열 = \"15.79\"\n",
    "\n",
    "변환 = float(문자열)\n",
    "print(변환,type(변환))"
   ]
  },
  {
   "cell_type": "code",
   "execution_count": 30,
   "id": "e6bbeac4",
   "metadata": {},
   "outputs": [
    {
     "name": "stdout",
     "output_type": "stream",
     "text": [
      "2019\n",
      "2022\n",
      "2025\n"
     ]
    }
   ],
   "source": [
    "# year라는 변수가 문자열 타입의 연도를 바인딩하고 있습니다. \n",
    "# 이를 정수로 변환한 후 최근 3년의 연도를 화면에 출력해보세요.\n",
    "\n",
    "year = \"2020\"\n",
    "\n",
    "print(int(year)-1)\n",
    "print(int(year)+2)\n",
    "print(int(year)+5)"
   ]
  },
  {
   "cell_type": "code",
   "execution_count": 35,
   "id": "8851cfdd",
   "metadata": {},
   "outputs": [
    {
     "name": "stdout",
     "output_type": "stream",
     "text": [
      "1749024\n"
     ]
    }
   ],
   "source": [
    "# 에이컨이 월 48,584원에 무이자 36개월의 조건으로 홈쇼핑에서 판매되고 있습니다. \n",
    "# 총 금액은 계산한 후 이를 화면에 출력해보세요. (변수사용하기)\n",
    "\n",
    "air = 48584\n",
    "\n",
    "총금액 = air*36\n",
    "\n",
    "print(총금액)"
   ]
  },
  {
   "cell_type": "code",
   "execution_count": null,
   "id": "bb2fd19f",
   "metadata": {},
   "outputs": [
    {
     "name": "stdout",
     "output_type": "stream",
     "text": [
      "p h\n"
     ]
    }
   ],
   "source": [
    "#letters가 바인딩하는 문자열에서 첫번째와 세번째 문자를 출력하세요.\n",
    "\n",
    "letters = 'python'\n",
    "\n",
    "print(letters[0], letters[2])\n",
    "\n",
    "#문자열에서 한 글자를 가져오는 것은 인덱싱"
   ]
  },
  {
   "cell_type": "code",
   "execution_count": null,
   "id": "585827f5",
   "metadata": {},
   "outputs": [
    {
     "name": "stdout",
     "output_type": "stream",
     "text": [
      "2210\n"
     ]
    }
   ],
   "source": [
    "#자동차 번호가 다음과 같을 때 뒤에 4자리만 출력하세요.\n",
    "\n",
    "license_plate = \"24가 2210\"\n",
    "\n",
    "print(license_plate[4::])\n",
    "\n",
    "#4부터 시작을 해도 -4부터 시작을 해도 도출값이 같음\n",
    "#뒤에서 4자리만 출력하니깐 음수값 넣어서 꺼꾸리 "
   ]
  },
  {
   "cell_type": "code",
   "execution_count": 47,
   "id": "4a6ea5f4",
   "metadata": {},
   "outputs": [
    {
     "name": "stdout",
     "output_type": "stream",
     "text": [
      "홀홀홀\n"
     ]
    }
   ],
   "source": [
    "#아래의 문자열에서 '홀' 만 출력하세요.\n",
    "\n",
    "string = \"홀짝홀짝홀짝\"\n",
    "\n",
    "print(string[0::2])"
   ]
  },
  {
   "cell_type": "code",
   "execution_count": null,
   "id": "b3823f18",
   "metadata": {},
   "outputs": [
    {
     "name": "stdout",
     "output_type": "stream",
     "text": [
      "NOHTYP\n"
     ]
    }
   ],
   "source": [
    "#문자열을 거꾸로 뒤집어 출력하세요.\n",
    "string = \"PYTHON\"\n",
    "print(string[::-1])\n",
    "\n",
    "#반복값? 맨 끝에 '-1' 입력\n"
   ]
  },
  {
   "cell_type": "code",
   "execution_count": null,
   "id": "5df2a32a",
   "metadata": {},
   "outputs": [
    {
     "name": "stdout",
     "output_type": "stream",
     "text": [
      "01011112222\n"
     ]
    }
   ],
   "source": [
    "#아래의 전화번호에서 하이픈('-')을 제거하고 출력\n",
    "\n",
    "phone_number = \"010-1111-2222\"\n",
    "\n",
    "#replace 메서드 사용하여 문자열 일부를 치환가능\n",
    "#문자열은 수정할 수 없는 자료형 -> 기존문자열을 치환하여 새로운 문자열 replace\n",
    "phone_number1 = phone_number.replace(\"-\",\"\")\n",
    "#replace() 메소드 설명 \n",
    "#string.replace(old, new[, count])\n",
    "#   old: 치환하려는 문자열 (찾을 문자열).\n",
    "#   new: 새로운 문자열 (대체할 문자열).\n",
    "#   count: (선택 사항) 치환할 최대 횟수. 생략 시 모든 일치 항목이 치환됩니다. \n",
    "print(phone_number1)"
   ]
  },
  {
   "cell_type": "code",
   "execution_count": null,
   "id": "42a0fff2",
   "metadata": {},
   "outputs": [
    {
     "name": "stdout",
     "output_type": "stream",
     "text": [
      "kr\n",
      "kr\n"
     ]
    }
   ],
   "source": [
    "# url 에 저장된 웹 페이지 주소에서 도메인을 출력하세요.\n",
    "\n",
    "url = \"http://sharebook.kr\"\n",
    "\n",
    "print(url[-2::])\n",
    "\n",
    "url_split = url.split('.')\n",
    "print(url_split[-1])\n",
    "\n",
    "\n",
    "\n"
   ]
  },
  {
   "cell_type": "code",
   "execution_count": 58,
   "id": "72b34811",
   "metadata": {},
   "outputs": [
    {
     "ename": "TypeError",
     "evalue": "'str' object does not support item assignment",
     "output_type": "error",
     "traceback": [
      "\u001b[31m---------------------------------------------------------------------------\u001b[39m",
      "\u001b[31mTypeError\u001b[39m                                 Traceback (most recent call last)",
      "\u001b[36mCell\u001b[39m\u001b[36m \u001b[39m\u001b[32mIn[58]\u001b[39m\u001b[32m, line 4\u001b[39m\n\u001b[32m      1\u001b[39m \u001b[38;5;66;03m# 아래 코드의 실행 결과를 예상해보세요.\u001b[39;00m\n\u001b[32m      3\u001b[39m lang = \u001b[33m'\u001b[39m\u001b[33mpython\u001b[39m\u001b[33m'\u001b[39m\n\u001b[32m----> \u001b[39m\u001b[32m4\u001b[39m \u001b[43mlang\u001b[49m\u001b[43m[\u001b[49m\u001b[32;43m0\u001b[39;49m\u001b[43m]\u001b[49m = \u001b[33m'\u001b[39m\u001b[33mp\u001b[39m\u001b[33m'\u001b[39m\n\u001b[32m      5\u001b[39m \u001b[38;5;28mprint\u001b[39m(lang)\n",
      "\u001b[31mTypeError\u001b[39m: 'str' object does not support item assignment"
     ]
    }
   ],
   "source": [
    "# 아래 코드의 실행 결과를 예상해보세요.\n",
    "\n",
    "lang = 'python'\n",
    "lang[0] = 'p'\n",
    "print(lang)"
   ]
  },
  {
   "cell_type": "code",
   "execution_count": null,
   "id": "7680064e",
   "metadata": {},
   "outputs": [
    {
     "name": "stdout",
     "output_type": "stream",
     "text": [
      "Abcdfe2A354A32A\n"
     ]
    }
   ],
   "source": [
    "# 아래 문자열에서 소문자 'a'를 대문자 'A'로 변경하세요.\n",
    "\n",
    "string = 'abcdfe2a354a32a'\n",
    "string1 = string.replace('a','A') #replace('찾을 값','변경 값')\n",
    "print(string1)"
   ]
  },
  {
   "cell_type": "code",
   "execution_count": null,
   "id": "c18f9e1b",
   "metadata": {},
   "outputs": [
    {
     "name": "stdout",
     "output_type": "stream",
     "text": [
      "abcd\n"
     ]
    }
   ],
   "source": [
    "# 아래 코드의 실행 결과를 예상해보세요.\n",
    "\n",
    "string = 'abcd'\n",
    "string.replace('b', 'B')\n",
    "print(string)\n",
    "\n",
    "#원본을 print 해서 원본값이 출력된듯 \n"
   ]
  },
  {
   "cell_type": "code",
   "execution_count": null,
   "id": "38d38767",
   "metadata": {},
   "outputs": [
    {
     "name": "stdout",
     "output_type": "stream",
     "text": [
      "34\n"
     ]
    }
   ],
   "source": [
    "# 문자열 합치기 /아래 코드의 실행 결과를 예상해보세요.\n",
    "a = '3'\n",
    "b = '4'\n",
    "print(a + b)\n",
    ". \n",
    "#예상 3+4 (오답) -> 두 문자열에 대해 덧셈 기호는 문자열의 연결을 의미함"
   ]
  },
  {
   "cell_type": "code",
   "execution_count": null,
   "id": "fea38966",
   "metadata": {},
   "outputs": [
    {
     "name": "stdout",
     "output_type": "stream",
     "text": [
      "--------------------------------------------------------------------------------\n"
     ]
    }
   ],
   "source": [
    "# 화면에 '-'를 80개 출력하세요.\n",
    "print('-'*80)"
   ]
  },
  {
   "cell_type": "code",
   "execution_count": 68,
   "id": "8892c896",
   "metadata": {},
   "outputs": [
    {
     "name": "stdout",
     "output_type": "stream",
     "text": [
      "python java python java python java python java \n"
     ]
    }
   ],
   "source": [
    "# 변수에 다음과 같은 문자열이 바인딩되어 있습니다.\n",
    "t1 = 'python'\n",
    "t2 = 'java'\n",
    "\n",
    "# 변수에 문자열 더하기와 문자열 곱하기를 사용해서 아래와 같이 출력해보세요.\n",
    "# python java python java python java python java\n",
    "\n",
    "t3 = t1 +\" \" + t2 +\" \"\n",
    "print((t3)*4)"
   ]
  },
  {
   "cell_type": "code",
   "execution_count": 78,
   "id": "0337302a",
   "metadata": {},
   "outputs": [],
   "source": [
    "# 변수에 다음과 같이 문자열과 정수가 바인딩되어 있을 때 % formatting을 사용해서 다음과 같이 출력해보세요.\n",
    "\n",
    "name1 = \"김민수\" \n",
    "age1 = 10\n",
    "name2 = \"이철희\"\n",
    "age2 = 13\n",
    "\n",
    "# 이름: 김민수 나이: 10\n",
    "# 이름: 이철희 나이: 13\n",
    "\n",
    "# print('이름:' %s, '나이:'%f %(name1, age1)) \n",
    "\n",
    "\n",
    "\n",
    "\n"
   ]
  },
  {
   "cell_type": "code",
   "execution_count": null,
   "id": "660efa51",
   "metadata": {},
   "outputs": [],
   "source": []
  }
 ],
 "metadata": {
  "kernelspec": {
   "display_name": "Python 3",
   "language": "python",
   "name": "python3"
  },
  "language_info": {
   "codemirror_mode": {
    "name": "ipython",
    "version": 3
   },
   "file_extension": ".py",
   "mimetype": "text/x-python",
   "name": "python",
   "nbconvert_exporter": "python",
   "pygments_lexer": "ipython3",
   "version": "3.11.9"
  }
 },
 "nbformat": 4,
 "nbformat_minor": 5
}
