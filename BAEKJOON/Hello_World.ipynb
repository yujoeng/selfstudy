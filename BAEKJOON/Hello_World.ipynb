{
 "cells": [
  {
   "cell_type": "code",
   "execution_count": 3,
   "id": "355e56ce",
   "metadata": {},
   "outputs": [
    {
     "name": "stdout",
     "output_type": "stream",
     "text": [
      "Hello World!\n"
     ]
    }
   ],
   "source": [
    "print('Hello World!')"
   ]
  },
  {
   "cell_type": "code",
   "execution_count": 8,
   "id": "9e34a771",
   "metadata": {},
   "outputs": [
    {
     "ename": "ValueError",
     "evalue": "not enough values to unpack (expected 2, got 0)",
     "output_type": "error",
     "traceback": [
      "\u001b[31m---------------------------------------------------------------------------\u001b[39m",
      "\u001b[31mValueError\u001b[39m                                Traceback (most recent call last)",
      "\u001b[36mCell\u001b[39m\u001b[36m \u001b[39m\u001b[32mIn[8]\u001b[39m\u001b[32m, line 3\u001b[39m\n\u001b[32m      1\u001b[39m \u001b[38;5;66;03m#두 정수 A 와 B를 입력받은 다음, 사칙연산 계산값을 출력하는 프로그램을 작성하시오.\u001b[39;00m\n\u001b[32m----> \u001b[39m\u001b[32m3\u001b[39m A, B = \u001b[38;5;28mmap\u001b[39m(\u001b[38;5;28mint\u001b[39m, \u001b[38;5;28minput\u001b[39m().split())\n\u001b[32m      5\u001b[39m \u001b[38;5;28mprint\u001b[39m(A+B)\n\u001b[32m      6\u001b[39m \u001b[38;5;28mprint\u001b[39m(A-B)\n",
      "\u001b[31mValueError\u001b[39m: not enough values to unpack (expected 2, got 0)"
     ]
    }
   ],
   "source": [
    "#두 정수 A 와 B를 입력받은 다음, 사칙연산 계산값을 출력하는 프로그램을 작성하시오.\n",
    "\n",
    "A, B = map(int, input().split())\n",
    "\n",
    "print(A+B)\n",
    "print(A-B)\n",
    "print(A*B)\n",
    "print(A//B)    #몫을 구하는 방법은 // 두 번 입력하기 \n",
    "print(A%B)\n"
   ]
  },
  {
   "cell_type": "code",
   "execution_count": null,
   "id": "2e6a4cae",
   "metadata": {},
   "outputs": [
    {
     "name": "stdout",
     "output_type": "stream",
     "text": [
      "??!\n"
     ]
    }
   ],
   "source": [
    "# 백준 10926 \n",
    "\n",
    "# id_junha = input(\"??!\")  \n",
    "# print(id_junha)\n",
    "\n",
    "# ----------------------------------------위에가 잘못된 풀이\n",
    "# \n",
    "# < 문자열 str 과 입력값을 요청하는 input 함수를 작성 후 뒤에 출력할 문자열 입력 >\n",
    "# 다양한 문제를 만져보면서 코드를 간단하게 생각하는 방법에 익숙해지기!!!!!\n",
    "\n",
    "print(str(input()) + \"??!\")  "
   ]
  },
  {
   "cell_type": "markdown",
   "id": "b96b7a78",
   "metadata": {},
   "source": [
    "#18108 - 1998년생인 내가 태국에서는 2541년생?!\n",
    "a = int(input())   입력값을 먼저 요청하기 \n",
    "print(a - 543)     \n",
    "\n",
    "---------------------------------------------------\n",
    "좀 더 가볍게 생각하고 input과 print를 잘 활용하기 \n",
    "\n"
   ]
  },
  {
   "cell_type": "markdown",
   "id": "c94a930a",
   "metadata": {},
   "source": [
    "백준 10170번 고양이 \n",
    "\n",
    "고양이 출력하기 \n",
    "\n",
    "배운 점 : ('\\') 역슬래시를 입력할 때는 2개씩 입력해야 한다. \n",
    "\n",
    "print(\"\\\\    /\\\\\")\n",
    "print(\" )  ( ')\")\n",
    "print(\"(  /  )\")\n",
    "print(\" \\\\(__)|\")\n",
    "\n",
    "\n",
    "백준 10172번 개\n",
    "\n",
    "강아지 출력하기 \n",
    "\", `, \\ 등의 문자에 주의\n",
    "\n",
    "배운 점 : 역슬래시 입력 방법('\\\\') 과 작은 따옴표 문자열 입력방법 (/')\n",
    "\n",
    "추가 학습 : \\n 줄바꿈 \\t 수평탭 "
   ]
  }
 ],
 "metadata": {
  "kernelspec": {
   "display_name": "Python 3",
   "language": "python",
   "name": "python3"
  },
  "language_info": {
   "codemirror_mode": {
    "name": "ipython",
    "version": 3
   },
   "file_extension": ".py",
   "mimetype": "text/x-python",
   "name": "python",
   "nbconvert_exporter": "python",
   "pygments_lexer": "ipython3",
   "version": "3.11.9"
  }
 },
 "nbformat": 4,
 "nbformat_minor": 5
}
